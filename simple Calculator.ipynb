{
 "cells": [
  {
   "cell_type": "code",
   "execution_count": 1,
   "id": "c37b6a7b",
   "metadata": {},
   "outputs": [
    {
     "name": "stdout",
     "output_type": "stream",
     "text": [
      "1.Add\n",
      "2.Sub\n",
      "3.Mul\n",
      "4.Div\n",
      "Select operation: 2000000\n",
      "Entered input is invalid\n",
      "Select operation: 2\n",
      "Enter first number: 1000000\n",
      "Enter second number: 3000000\n",
      "1000000 - 3000000 = -2000000\n"
     ]
    }
   ],
   "source": [
    "def add(x,y):\n",
    "    return x + y\n",
    "def subtract(x,y):\n",
    "    return x - y\n",
    "def multiply(x,y):\n",
    "    return x * y\n",
    "def divide(x,y):\n",
    "    return x / y\n",
    "\n",
    "print(\"1.Add\")\n",
    "print(\"2.Sub\")\n",
    "print(\"3.Mul\")\n",
    "print(\"4.Div\")\n",
    "while True:\n",
    "    choice = input(\"Select operation: \")\n",
    "    if choice in ('1', '2', '3', '4'):\n",
    "        number1 = int(input(\"Enter first number: \"))\n",
    "        number2 = int(input(\"Enter second number: \"))\n",
    "        if choice == '1':\n",
    "           print(number1, \"+\", number2, \"=\", add(number1, number2))\n",
    "        elif choice == '2':\n",
    "           print(number1, \"-\", number2, \"=\", subtract(number1, number2))\n",
    "        elif choice == '3':\n",
    "           print(number1, \"*\", number2, \"=\", multiply(number1, number2))\n",
    "        elif choice == '4':\n",
    "           print(number1, \"/\", number2, \"=\", divide(number1, number2))\n",
    "        break\n",
    "    else: \n",
    "         print(\"Entered input is invalid\")"
   ]
  },
  {
   "cell_type": "code",
   "execution_count": null,
   "id": "afc4a3f4",
   "metadata": {},
   "outputs": [],
   "source": []
  },
  {
   "cell_type": "code",
   "execution_count": null,
   "id": "1322fd16",
   "metadata": {},
   "outputs": [],
   "source": []
  },
  {
   "cell_type": "code",
   "execution_count": null,
   "id": "8f3995bd",
   "metadata": {},
   "outputs": [],
   "source": []
  }
 ],
 "metadata": {
  "kernelspec": {
   "display_name": "Python 3 (ipykernel)",
   "language": "python",
   "name": "python3"
  },
  "language_info": {
   "codemirror_mode": {
    "name": "ipython",
    "version": 3
   },
   "file_extension": ".py",
   "mimetype": "text/x-python",
   "name": "python",
   "nbconvert_exporter": "python",
   "pygments_lexer": "ipython3",
   "version": "3.9.12"
  }
 },
 "nbformat": 4,
 "nbformat_minor": 5
}
